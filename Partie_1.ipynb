{
 "cells": [
  {
   "cell_type": "code",
   "execution_count": 1,
   "metadata": {},
   "outputs": [],
   "source": [
    "import os\n",
    "import pandas as pd\n",
    "import numpy as np\n",
    "import seaborn as sns\n",
    "import matplotlib.pyplot as plt\n",
    "import Data"
   ]
  },
  {
   "cell_type": "markdown",
   "id": "5cb760f1-3b3f-4d3d-8cfd-2513e4f4ebe9",
   "metadata": {},
   "source": [
    "# Initialisation des données "
   ]
  },
  {
   "cell_type": "code",
   "execution_count": 2,
   "metadata": {},
   "outputs": [],
   "source": [
    "lis = Data.clean_lis()\n",
    "cal = Data.clean_cal1()"
   ]
  },
  {
   "cell_type": "markdown",
   "metadata": {},
   "source": [
    "# Question 1"
   ]
  },
  {
   "cell_type": "code",
   "execution_count": 3,
   "metadata": {},
   "outputs": [
    {
     "data": {
      "text/html": [
       "<div>\n",
       "<style scoped>\n",
       "    .dataframe tbody tr th:only-of-type {\n",
       "        vertical-align: middle;\n",
       "    }\n",
       "\n",
       "    .dataframe tbody tr th {\n",
       "        vertical-align: top;\n",
       "    }\n",
       "\n",
       "    .dataframe thead th {\n",
       "        text-align: right;\n",
       "    }\n",
       "</style>\n",
       "<table border=\"1\" class=\"dataframe\">\n",
       "  <thead>\n",
       "    <tr style=\"text-align: right;\">\n",
       "      <th>neighbourhood_group_cleansed</th>\n",
       "      <th>Ballard</th>\n",
       "      <th>Beacon Hill</th>\n",
       "      <th>Capitol Hill</th>\n",
       "      <th>Cascade</th>\n",
       "      <th>Central Area</th>\n",
       "      <th>Delridge</th>\n",
       "      <th>Downtown</th>\n",
       "      <th>Interbay</th>\n",
       "      <th>Lake City</th>\n",
       "      <th>Magnolia</th>\n",
       "      <th>Northgate</th>\n",
       "      <th>Other neighborhoods</th>\n",
       "      <th>Queen Anne</th>\n",
       "      <th>Rainier Valley</th>\n",
       "      <th>Seward Park</th>\n",
       "      <th>University District</th>\n",
       "      <th>West Seattle</th>\n",
       "    </tr>\n",
       "    <tr>\n",
       "      <th>property_type</th>\n",
       "      <th></th>\n",
       "      <th></th>\n",
       "      <th></th>\n",
       "      <th></th>\n",
       "      <th></th>\n",
       "      <th></th>\n",
       "      <th></th>\n",
       "      <th></th>\n",
       "      <th></th>\n",
       "      <th></th>\n",
       "      <th></th>\n",
       "      <th></th>\n",
       "      <th></th>\n",
       "      <th></th>\n",
       "      <th></th>\n",
       "      <th></th>\n",
       "      <th></th>\n",
       "    </tr>\n",
       "  </thead>\n",
       "  <tbody>\n",
       "    <tr>\n",
       "      <th>Apartment</th>\n",
       "      <td>108.07</td>\n",
       "      <td>84.61</td>\n",
       "      <td>119.18</td>\n",
       "      <td>123.81</td>\n",
       "      <td>103.24</td>\n",
       "      <td>98.33</td>\n",
       "      <td>153.99</td>\n",
       "      <td>131.25</td>\n",
       "      <td>87.64</td>\n",
       "      <td>151.83</td>\n",
       "      <td>86.63</td>\n",
       "      <td>107.21</td>\n",
       "      <td>123.50</td>\n",
       "      <td>93.13</td>\n",
       "      <td>86.00</td>\n",
       "      <td>92.93</td>\n",
       "      <td>98.10</td>\n",
       "    </tr>\n",
       "    <tr>\n",
       "      <th>Bed &amp; Breakfast</th>\n",
       "      <td>84.50</td>\n",
       "      <td>89.00</td>\n",
       "      <td>142.20</td>\n",
       "      <td>NaN</td>\n",
       "      <td>NaN</td>\n",
       "      <td>72.00</td>\n",
       "      <td>94.50</td>\n",
       "      <td>NaN</td>\n",
       "      <td>92.00</td>\n",
       "      <td>75.00</td>\n",
       "      <td>70.00</td>\n",
       "      <td>106.43</td>\n",
       "      <td>209.00</td>\n",
       "      <td>74.60</td>\n",
       "      <td>NaN</td>\n",
       "      <td>NaN</td>\n",
       "      <td>164.67</td>\n",
       "    </tr>\n",
       "    <tr>\n",
       "      <th>Boat</th>\n",
       "      <td>75.00</td>\n",
       "      <td>NaN</td>\n",
       "      <td>NaN</td>\n",
       "      <td>391.33</td>\n",
       "      <td>NaN</td>\n",
       "      <td>NaN</td>\n",
       "      <td>NaN</td>\n",
       "      <td>95.00</td>\n",
       "      <td>NaN</td>\n",
       "      <td>NaN</td>\n",
       "      <td>NaN</td>\n",
       "      <td>415.00</td>\n",
       "      <td>85.00</td>\n",
       "      <td>NaN</td>\n",
       "      <td>NaN</td>\n",
       "      <td>NaN</td>\n",
       "      <td>NaN</td>\n",
       "    </tr>\n",
       "    <tr>\n",
       "      <th>Bungalow</th>\n",
       "      <td>85.00</td>\n",
       "      <td>99.00</td>\n",
       "      <td>140.00</td>\n",
       "      <td>NaN</td>\n",
       "      <td>70.00</td>\n",
       "      <td>NaN</td>\n",
       "      <td>NaN</td>\n",
       "      <td>NaN</td>\n",
       "      <td>NaN</td>\n",
       "      <td>NaN</td>\n",
       "      <td>NaN</td>\n",
       "      <td>84.75</td>\n",
       "      <td>205.00</td>\n",
       "      <td>NaN</td>\n",
       "      <td>NaN</td>\n",
       "      <td>NaN</td>\n",
       "      <td>NaN</td>\n",
       "    </tr>\n",
       "    <tr>\n",
       "      <th>Cabin</th>\n",
       "      <td>89.00</td>\n",
       "      <td>102.33</td>\n",
       "      <td>154.50</td>\n",
       "      <td>300.00</td>\n",
       "      <td>82.00</td>\n",
       "      <td>NaN</td>\n",
       "      <td>NaN</td>\n",
       "      <td>NaN</td>\n",
       "      <td>68.00</td>\n",
       "      <td>NaN</td>\n",
       "      <td>100.00</td>\n",
       "      <td>90.75</td>\n",
       "      <td>60.00</td>\n",
       "      <td>92.00</td>\n",
       "      <td>NaN</td>\n",
       "      <td>NaN</td>\n",
       "      <td>90.00</td>\n",
       "    </tr>\n",
       "    <tr>\n",
       "      <th>Camper/RV</th>\n",
       "      <td>75.00</td>\n",
       "      <td>375.00</td>\n",
       "      <td>NaN</td>\n",
       "      <td>100.00</td>\n",
       "      <td>NaN</td>\n",
       "      <td>NaN</td>\n",
       "      <td>NaN</td>\n",
       "      <td>NaN</td>\n",
       "      <td>NaN</td>\n",
       "      <td>NaN</td>\n",
       "      <td>50.00</td>\n",
       "      <td>173.50</td>\n",
       "      <td>83.33</td>\n",
       "      <td>87.00</td>\n",
       "      <td>NaN</td>\n",
       "      <td>NaN</td>\n",
       "      <td>120.00</td>\n",
       "    </tr>\n",
       "    <tr>\n",
       "      <th>Chalet</th>\n",
       "      <td>NaN</td>\n",
       "      <td>NaN</td>\n",
       "      <td>NaN</td>\n",
       "      <td>NaN</td>\n",
       "      <td>NaN</td>\n",
       "      <td>NaN</td>\n",
       "      <td>NaN</td>\n",
       "      <td>NaN</td>\n",
       "      <td>NaN</td>\n",
       "      <td>NaN</td>\n",
       "      <td>NaN</td>\n",
       "      <td>62.00</td>\n",
       "      <td>NaN</td>\n",
       "      <td>NaN</td>\n",
       "      <td>NaN</td>\n",
       "      <td>NaN</td>\n",
       "      <td>135.00</td>\n",
       "    </tr>\n",
       "    <tr>\n",
       "      <th>Condominium</th>\n",
       "      <td>88.33</td>\n",
       "      <td>NaN</td>\n",
       "      <td>137.64</td>\n",
       "      <td>147.20</td>\n",
       "      <td>140.00</td>\n",
       "      <td>NaN</td>\n",
       "      <td>174.28</td>\n",
       "      <td>150.00</td>\n",
       "      <td>NaN</td>\n",
       "      <td>280.00</td>\n",
       "      <td>65.00</td>\n",
       "      <td>82.00</td>\n",
       "      <td>119.08</td>\n",
       "      <td>NaN</td>\n",
       "      <td>NaN</td>\n",
       "      <td>113.33</td>\n",
       "      <td>297.00</td>\n",
       "    </tr>\n",
       "    <tr>\n",
       "      <th>Dorm</th>\n",
       "      <td>NaN</td>\n",
       "      <td>NaN</td>\n",
       "      <td>NaN</td>\n",
       "      <td>NaN</td>\n",
       "      <td>NaN</td>\n",
       "      <td>NaN</td>\n",
       "      <td>39.50</td>\n",
       "      <td>NaN</td>\n",
       "      <td>NaN</td>\n",
       "      <td>NaN</td>\n",
       "      <td>NaN</td>\n",
       "      <td>NaN</td>\n",
       "      <td>NaN</td>\n",
       "      <td>NaN</td>\n",
       "      <td>NaN</td>\n",
       "      <td>NaN</td>\n",
       "      <td>NaN</td>\n",
       "    </tr>\n",
       "    <tr>\n",
       "      <th>House</th>\n",
       "      <td>136.59</td>\n",
       "      <td>93.37</td>\n",
       "      <td>149.60</td>\n",
       "      <td>169.22</td>\n",
       "      <td>139.89</td>\n",
       "      <td>82.02</td>\n",
       "      <td>174.50</td>\n",
       "      <td>92.00</td>\n",
       "      <td>94.17</td>\n",
       "      <td>185.90</td>\n",
       "      <td>92.16</td>\n",
       "      <td>127.30</td>\n",
       "      <td>222.94</td>\n",
       "      <td>92.61</td>\n",
       "      <td>114.26</td>\n",
       "      <td>97.31</td>\n",
       "      <td>152.04</td>\n",
       "    </tr>\n",
       "    <tr>\n",
       "      <th>Loft</th>\n",
       "      <td>82.00</td>\n",
       "      <td>99.00</td>\n",
       "      <td>115.50</td>\n",
       "      <td>95.00</td>\n",
       "      <td>161.50</td>\n",
       "      <td>NaN</td>\n",
       "      <td>157.60</td>\n",
       "      <td>69.00</td>\n",
       "      <td>NaN</td>\n",
       "      <td>150.00</td>\n",
       "      <td>NaN</td>\n",
       "      <td>115.09</td>\n",
       "      <td>204.50</td>\n",
       "      <td>87.50</td>\n",
       "      <td>NaN</td>\n",
       "      <td>NaN</td>\n",
       "      <td>225.00</td>\n",
       "    </tr>\n",
       "    <tr>\n",
       "      <th>Other</th>\n",
       "      <td>NaN</td>\n",
       "      <td>65.00</td>\n",
       "      <td>87.50</td>\n",
       "      <td>NaN</td>\n",
       "      <td>85.00</td>\n",
       "      <td>NaN</td>\n",
       "      <td>104.00</td>\n",
       "      <td>NaN</td>\n",
       "      <td>NaN</td>\n",
       "      <td>NaN</td>\n",
       "      <td>130.00</td>\n",
       "      <td>93.44</td>\n",
       "      <td>NaN</td>\n",
       "      <td>118.00</td>\n",
       "      <td>NaN</td>\n",
       "      <td>45.00</td>\n",
       "      <td>NaN</td>\n",
       "    </tr>\n",
       "    <tr>\n",
       "      <th>Tent</th>\n",
       "      <td>NaN</td>\n",
       "      <td>65.00</td>\n",
       "      <td>NaN</td>\n",
       "      <td>NaN</td>\n",
       "      <td>NaN</td>\n",
       "      <td>NaN</td>\n",
       "      <td>NaN</td>\n",
       "      <td>NaN</td>\n",
       "      <td>NaN</td>\n",
       "      <td>NaN</td>\n",
       "      <td>50.00</td>\n",
       "      <td>25.00</td>\n",
       "      <td>NaN</td>\n",
       "      <td>NaN</td>\n",
       "      <td>NaN</td>\n",
       "      <td>NaN</td>\n",
       "      <td>NaN</td>\n",
       "    </tr>\n",
       "    <tr>\n",
       "      <th>Townhouse</th>\n",
       "      <td>106.27</td>\n",
       "      <td>112.50</td>\n",
       "      <td>189.27</td>\n",
       "      <td>122.00</td>\n",
       "      <td>132.75</td>\n",
       "      <td>61.17</td>\n",
       "      <td>NaN</td>\n",
       "      <td>NaN</td>\n",
       "      <td>NaN</td>\n",
       "      <td>197.67</td>\n",
       "      <td>66.50</td>\n",
       "      <td>98.56</td>\n",
       "      <td>172.00</td>\n",
       "      <td>69.00</td>\n",
       "      <td>NaN</td>\n",
       "      <td>60.33</td>\n",
       "      <td>147.22</td>\n",
       "    </tr>\n",
       "    <tr>\n",
       "      <th>Treehouse</th>\n",
       "      <td>NaN</td>\n",
       "      <td>NaN</td>\n",
       "      <td>200.00</td>\n",
       "      <td>NaN</td>\n",
       "      <td>NaN</td>\n",
       "      <td>NaN</td>\n",
       "      <td>NaN</td>\n",
       "      <td>NaN</td>\n",
       "      <td>NaN</td>\n",
       "      <td>NaN</td>\n",
       "      <td>NaN</td>\n",
       "      <td>NaN</td>\n",
       "      <td>NaN</td>\n",
       "      <td>48.00</td>\n",
       "      <td>NaN</td>\n",
       "      <td>NaN</td>\n",
       "      <td>55.00</td>\n",
       "    </tr>\n",
       "    <tr>\n",
       "      <th>Yurt</th>\n",
       "      <td>NaN</td>\n",
       "      <td>NaN</td>\n",
       "      <td>NaN</td>\n",
       "      <td>NaN</td>\n",
       "      <td>NaN</td>\n",
       "      <td>NaN</td>\n",
       "      <td>NaN</td>\n",
       "      <td>NaN</td>\n",
       "      <td>NaN</td>\n",
       "      <td>NaN</td>\n",
       "      <td>NaN</td>\n",
       "      <td>NaN</td>\n",
       "      <td>NaN</td>\n",
       "      <td>NaN</td>\n",
       "      <td>NaN</td>\n",
       "      <td>NaN</td>\n",
       "      <td>100.00</td>\n",
       "    </tr>\n",
       "  </tbody>\n",
       "</table>\n",
       "</div>"
      ],
      "text/plain": [
       "neighbourhood_group_cleansed  Ballard  Beacon Hill  Capitol Hill  Cascade  \\\n",
       "property_type                                                               \n",
       "Apartment                      108.07        84.61        119.18   123.81   \n",
       "Bed & Breakfast                 84.50        89.00        142.20      NaN   \n",
       "Boat                            75.00          NaN           NaN   391.33   \n",
       "Bungalow                        85.00        99.00        140.00      NaN   \n",
       "Cabin                           89.00       102.33        154.50   300.00   \n",
       "Camper/RV                       75.00       375.00           NaN   100.00   \n",
       "Chalet                            NaN          NaN           NaN      NaN   \n",
       "Condominium                     88.33          NaN        137.64   147.20   \n",
       "Dorm                              NaN          NaN           NaN      NaN   \n",
       "House                          136.59        93.37        149.60   169.22   \n",
       "Loft                            82.00        99.00        115.50    95.00   \n",
       "Other                             NaN        65.00         87.50      NaN   \n",
       "Tent                              NaN        65.00           NaN      NaN   \n",
       "Townhouse                      106.27       112.50        189.27   122.00   \n",
       "Treehouse                         NaN          NaN        200.00      NaN   \n",
       "Yurt                              NaN          NaN           NaN      NaN   \n",
       "\n",
       "neighbourhood_group_cleansed  Central Area  Delridge  Downtown  Interbay  \\\n",
       "property_type                                                              \n",
       "Apartment                           103.24     98.33    153.99    131.25   \n",
       "Bed & Breakfast                        NaN     72.00     94.50       NaN   \n",
       "Boat                                   NaN       NaN       NaN     95.00   \n",
       "Bungalow                             70.00       NaN       NaN       NaN   \n",
       "Cabin                                82.00       NaN       NaN       NaN   \n",
       "Camper/RV                              NaN       NaN       NaN       NaN   \n",
       "Chalet                                 NaN       NaN       NaN       NaN   \n",
       "Condominium                         140.00       NaN    174.28    150.00   \n",
       "Dorm                                   NaN       NaN     39.50       NaN   \n",
       "House                               139.89     82.02    174.50     92.00   \n",
       "Loft                                161.50       NaN    157.60     69.00   \n",
       "Other                                85.00       NaN    104.00       NaN   \n",
       "Tent                                   NaN       NaN       NaN       NaN   \n",
       "Townhouse                           132.75     61.17       NaN       NaN   \n",
       "Treehouse                              NaN       NaN       NaN       NaN   \n",
       "Yurt                                   NaN       NaN       NaN       NaN   \n",
       "\n",
       "neighbourhood_group_cleansed  Lake City  Magnolia  Northgate  \\\n",
       "property_type                                                  \n",
       "Apartment                         87.64    151.83      86.63   \n",
       "Bed & Breakfast                   92.00     75.00      70.00   \n",
       "Boat                                NaN       NaN        NaN   \n",
       "Bungalow                            NaN       NaN        NaN   \n",
       "Cabin                             68.00       NaN     100.00   \n",
       "Camper/RV                           NaN       NaN      50.00   \n",
       "Chalet                              NaN       NaN        NaN   \n",
       "Condominium                         NaN    280.00      65.00   \n",
       "Dorm                                NaN       NaN        NaN   \n",
       "House                             94.17    185.90      92.16   \n",
       "Loft                                NaN    150.00        NaN   \n",
       "Other                               NaN       NaN     130.00   \n",
       "Tent                                NaN       NaN      50.00   \n",
       "Townhouse                           NaN    197.67      66.50   \n",
       "Treehouse                           NaN       NaN        NaN   \n",
       "Yurt                                NaN       NaN        NaN   \n",
       "\n",
       "neighbourhood_group_cleansed  Other neighborhoods  Queen Anne  Rainier Valley  \\\n",
       "property_type                                                                   \n",
       "Apartment                                  107.21      123.50           93.13   \n",
       "Bed & Breakfast                            106.43      209.00           74.60   \n",
       "Boat                                       415.00       85.00             NaN   \n",
       "Bungalow                                    84.75      205.00             NaN   \n",
       "Cabin                                       90.75       60.00           92.00   \n",
       "Camper/RV                                  173.50       83.33           87.00   \n",
       "Chalet                                      62.00         NaN             NaN   \n",
       "Condominium                                 82.00      119.08             NaN   \n",
       "Dorm                                          NaN         NaN             NaN   \n",
       "House                                      127.30      222.94           92.61   \n",
       "Loft                                       115.09      204.50           87.50   \n",
       "Other                                       93.44         NaN          118.00   \n",
       "Tent                                        25.00         NaN             NaN   \n",
       "Townhouse                                   98.56      172.00           69.00   \n",
       "Treehouse                                     NaN         NaN           48.00   \n",
       "Yurt                                          NaN         NaN             NaN   \n",
       "\n",
       "neighbourhood_group_cleansed  Seward Park  University District  West Seattle  \n",
       "property_type                                                                 \n",
       "Apartment                           86.00                92.93         98.10  \n",
       "Bed & Breakfast                       NaN                  NaN        164.67  \n",
       "Boat                                  NaN                  NaN           NaN  \n",
       "Bungalow                              NaN                  NaN           NaN  \n",
       "Cabin                                 NaN                  NaN         90.00  \n",
       "Camper/RV                             NaN                  NaN        120.00  \n",
       "Chalet                                NaN                  NaN        135.00  \n",
       "Condominium                           NaN               113.33        297.00  \n",
       "Dorm                                  NaN                  NaN           NaN  \n",
       "House                              114.26                97.31        152.04  \n",
       "Loft                                  NaN                  NaN        225.00  \n",
       "Other                                 NaN                45.00           NaN  \n",
       "Tent                                  NaN                  NaN           NaN  \n",
       "Townhouse                             NaN                60.33        147.22  \n",
       "Treehouse                             NaN                  NaN         55.00  \n",
       "Yurt                                  NaN                  NaN        100.00  "
      ]
     },
     "metadata": {},
     "output_type": "display_data"
    }
   ],
   "source": [
    "#On calcule les prix moyens par type de propriété et quartier, arrondi à 2 chiffres après la virgule\n",
    "MeanPrice = round(lis.pivot_table(index='property_type',columns='neighbourhood_group_cleansed',values = 'price', aggfunc = \"mean\"),2)\n",
    "display(MeanPrice)"
   ]
  },
  {
   "cell_type": "code",
   "execution_count": 4,
   "metadata": {},
   "outputs": [
    {
     "data": {
      "image/png": "[encoded data removed]",
      "text/plain": [
       "<Figure size 1296x864 with 1 Axes>"
      ]
     },
     "metadata": {
      "needs_background": "light"
     },
     "output_type": "display_data"
    }
   ],
   "source": [
    "#Représentation graphique du prix moyen de la location selon le quartier\n",
    "sns.catplot(x=\"neighbourhood_group_cleansed\", y=\"price\", kind=\"bar\", data=lis, height = 12, aspect = 12/8)\n",
    "plt.title(\"Prix moyen des locations par quartier\")\n",
    "plt.show()"
   ]
  },
  {
   "cell_type": "code",
   "execution_count": 5,
   "metadata": {},
   "outputs": [
    {
     "data": {
      "image/png": "[encoded data removed]",
      "text/plain": [
       "<Figure size 1296x864 with 1 Axes>"
      ]
     },
     "metadata": {
      "needs_background": "light"
     },
     "output_type": "display_data"
    }
   ],
   "source": [
    "#Représentation graphique du prix moyen de la location selon le type de propriété\n",
    "sns.catplot(x=\"property_type\", y=\"price\", kind=\"bar\", data=lis, height = 12, aspect = 12/8)\n",
    "plt.title(\"Prix moyen des locations par type de propriété\")\n",
    "plt.show()"
   ]
  },
  {
   "cell_type": "markdown",
   "metadata": {},
   "source": [
    "# Question 2"
   ]
  },
  {
   "cell_type": "code",
   "execution_count": 6,
   "id": "3bf1fcb6-ff8a-4e7b-852b-84a1352526b5",
   "metadata": {},
   "outputs": [],
   "source": [
    "#On fait une table de pivot comptant le nbr de logements par mois selon s'il sont disponibles ou non\n",
    "disp = cal.pivot_table(index='month',columns=\"available\",values =\"id\",aggfunc = \"count\")"
   ]
  },
  {
   "cell_type": "code",
   "execution_count": 7,
   "id": "5fddae53-2080-477a-81ff-0d5ee87d6861",
   "metadata": {},
   "outputs": [
    {
     "data": {
      "text/html": [
       "<div>\n",
       "<style scoped>\n",
       "    .dataframe tbody tr th:only-of-type {\n",
       "        vertical-align: middle;\n",
       "    }\n",
       "\n",
       "    .dataframe tbody tr th {\n",
       "        vertical-align: top;\n",
       "    }\n",
       "\n",
       "    .dataframe thead th {\n",
       "        text-align: right;\n",
       "    }\n",
       "</style>\n",
       "<table border=\"1\" class=\"dataframe\">\n",
       "  <thead>\n",
       "    <tr style=\"text-align: right;\">\n",
       "      <th>available</th>\n",
       "      <th>non_disponible</th>\n",
       "      <th>disponible</th>\n",
       "    </tr>\n",
       "    <tr>\n",
       "      <th>month</th>\n",
       "      <th></th>\n",
       "      <th></th>\n",
       "    </tr>\n",
       "  </thead>\n",
       "  <tbody>\n",
       "    <tr>\n",
       "      <th>01</th>\n",
       "      <td>47665</td>\n",
       "      <td>59239</td>\n",
       "    </tr>\n",
       "    <tr>\n",
       "      <th>02</th>\n",
       "      <td>37401</td>\n",
       "      <td>73321</td>\n",
       "    </tr>\n",
       "    <tr>\n",
       "      <th>03</th>\n",
       "      <td>34420</td>\n",
       "      <td>83938</td>\n",
       "    </tr>\n",
       "    <tr>\n",
       "      <th>04</th>\n",
       "      <td>38503</td>\n",
       "      <td>76037</td>\n",
       "    </tr>\n",
       "    <tr>\n",
       "      <th>05</th>\n",
       "      <td>38387</td>\n",
       "      <td>79971</td>\n",
       "    </tr>\n",
       "    <tr>\n",
       "      <th>06</th>\n",
       "      <td>37296</td>\n",
       "      <td>77244</td>\n",
       "    </tr>\n",
       "    <tr>\n",
       "      <th>07</th>\n",
       "      <td>44136</td>\n",
       "      <td>74222</td>\n",
       "    </tr>\n",
       "    <tr>\n",
       "      <th>08</th>\n",
       "      <td>42011</td>\n",
       "      <td>76347</td>\n",
       "    </tr>\n",
       "    <tr>\n",
       "      <th>09</th>\n",
       "      <td>37294</td>\n",
       "      <td>77246</td>\n",
       "    </tr>\n",
       "    <tr>\n",
       "      <th>10</th>\n",
       "      <td>35920</td>\n",
       "      <td>82438</td>\n",
       "    </tr>\n",
       "    <tr>\n",
       "      <th>11</th>\n",
       "      <td>32760</td>\n",
       "      <td>81780</td>\n",
       "    </tr>\n",
       "    <tr>\n",
       "      <th>12</th>\n",
       "      <td>31297</td>\n",
       "      <td>87061</td>\n",
       "    </tr>\n",
       "  </tbody>\n",
       "</table>\n",
       "</div>"
      ],
      "text/plain": [
       "available  non_disponible  disponible\n",
       "month                                \n",
       "01                  47665       59239\n",
       "02                  37401       73321\n",
       "03                  34420       83938\n",
       "04                  38503       76037\n",
       "05                  38387       79971\n",
       "06                  37296       77244\n",
       "07                  44136       74222\n",
       "08                  42011       76347\n",
       "09                  37294       77246\n",
       "10                  35920       82438\n",
       "11                  32760       81780\n",
       "12                  31297       87061"
      ]
     },
     "metadata": {},
     "output_type": "display_data"
    }
   ],
   "source": [
    "disp.rename(columns = {'t': 'disponible', 'f': 'non_disponible'}, inplace = True) \n",
    "display(disp)"
   ]
  },
  {
   "cell_type": "code",
   "execution_count": 8,
   "id": "068496fa-5f11-4257-ba8d-f45cab5e2d3c",
   "metadata": {},
   "outputs": [
    {
     "data": {
      "text/plain": [
       "[47665, 87061]"
      ]
     },
     "execution_count": 8,
     "metadata": {},
     "output_type": "execute_result"
    }
   ],
   "source": [
    "#On récupère les maximums de chaque colonne\n",
    "max = disp.max().to_list()\n",
    "max"
   ]
  },
  {
   "cell_type": "code",
   "execution_count": 9,
   "id": "6baec087",
   "metadata": {},
   "outputs": [
    {
     "data": {
      "text/plain": [
       "month\n",
       "12    87061\n",
       "Name: disponible, dtype: int64"
      ]
     },
     "metadata": {},
     "output_type": "display_data"
    },
    {
     "name": "stdout",
     "output_type": "stream",
     "text": [
      "Ainsi, c'est en décembre que l'on trouve le plus de logements disponibles : 87601\n"
     ]
    }
   ],
   "source": [
    "display(disp[disp['disponible']==max[1]].disponible)\n",
    "print(\"Ainsi, c'est en décembre que l'on trouve le plus de logements disponibles : 87601\")"
   ]
  },
  {
   "cell_type": "code",
   "execution_count": 10,
   "id": "53a97b74",
   "metadata": {},
   "outputs": [
    {
     "data": {
      "text/plain": [
       "month\n",
       "01    47665\n",
       "Name: non_disponible, dtype: int64"
      ]
     },
     "metadata": {},
     "output_type": "display_data"
    },
    {
     "name": "stdout",
     "output_type": "stream",
     "text": [
      "Ainsi, c'est en Janvier que l'on trouve le moins de logements disponibles : 47665\n"
     ]
    }
   ],
   "source": [
    "display(disp[disp['non_disponible']==max[0]].non_disponible)\n",
    "print(\"Ainsi, c'est en Janvier que l'on trouve le moins de logements disponibles : 47665\")"
   ]
  },
  {
   "cell_type": "markdown",
   "id": "b5b6520a-34a0-474c-899d-7b3942d0004a",
   "metadata": {},
   "source": [
    "# Question 3"
   ]
  },
  {
   "cell_type": "code",
   "execution_count": 11,
   "id": "1437b13f-444f-4a25-a159-c3803819e3da",
   "metadata": {
    "tags": []
   },
   "outputs": [],
   "source": [
    "#Pour regarder les critères qui influent sur les prix on regarde la matrice de corrélation\n",
    "corr_lis = lis.corr()"
   ]
  },
  {
   "cell_type": "code",
   "execution_count": 12,
   "id": "10580b47-98c5-430d-bd19-25e4c1eb71fc",
   "metadata": {
    "tags": []
   },
   "outputs": [
    {
     "data": {
      "text/plain": [
       "<AxesSubplot:>"
      ]
     },
     "execution_count": 12,
     "metadata": {},
     "output_type": "execute_result"
    },
    {
     "data": {
      "image/png": "[encoded data removed]",
      "text/plain": [
       "<Figure size 792x648 with 2 Axes>"
      ]
     },
     "metadata": {
      "needs_background": "light"
     },
     "output_type": "display_data"
    }
   ],
   "source": [
    "#Pour avoir une vision d'ensemble de la corrélation, on fait la heatmap. On voit ansi que les prix semblent être fortement corrélé \n",
    "#avec des variables comme le nombre de chambre ou encore la surface\n",
    "\n",
    "# Generate a mask for the upper triangle\n",
    "mask = np.triu(np.ones_like(corr_lis, dtype=bool))\n",
    "\n",
    "# Set up the matplotlib figure\n",
    "f, ax = plt.subplots(figsize=(11, 9))\n",
    "\n",
    "# Generate a custom diverging colormap\n",
    "cmap = sns.diverging_palette(230, 20, as_cmap=True)\n",
    "\n",
    "# Draw the heatmap with the mask and correct aspect ratio\n",
    "sns.heatmap(corr_lis,mask=mask, cmap=cmap, vmax=1, center=0,\n",
    "            square=True, linewidths=1, cbar_kws={\"shrink\": .5})"
   ]
  },
  {
   "cell_type": "code",
   "execution_count": 13,
   "id": "f07edb0f-6b02-460a-a8fc-43a7ebd60524",
   "metadata": {},
   "outputs": [
    {
     "data": {
      "text/plain": [
       "[]"
      ]
     },
     "execution_count": 13,
     "metadata": {},
     "output_type": "execute_result"
    },
    {
     "data": {
      "image/png": "[encoded data removed]",
      "text/plain": [
       "<Figure size 864x576 with 1 Axes>"
      ]
     },
     "metadata": {
      "needs_background": "light"
     },
     "output_type": "display_data"
    }
   ],
   "source": [
    "#On réalise alors un graph de la corrélation entre le prix et les autres variables \n",
    "#On voit bien que le prix dépend fortement du nombre de chambre, de la surface au sol ou encore des services (accomodates)\n",
    "fig = plt.figure(figsize=(12, 8))\n",
    "sns.barplot(x=corr_lis[\"price\"], y=(corr_lis.columns))\n",
    "plt.plot()"
   ]
  },
  {
   "cell_type": "markdown",
   "id": "5e34a032-3c53-4371-a599-ede42d5e27c5",
   "metadata": {},
   "source": [
    "# Question 4"
   ]
  },
  {
   "cell_type": "code",
   "execution_count": 14,
   "id": "33219c3f-6644-4854-94fc-7160569c4bd8",
   "metadata": {},
   "outputs": [],
   "source": [
    "cal = Data.clean_cal_price1()"
   ]
  },
  {
   "cell_type": "code",
   "execution_count": 15,
   "id": "9e163e01-6566-4f60-a076-fec1c7774ab4",
   "metadata": {},
   "outputs": [
    {
     "data": {
      "text/html": [
       "<div>\n",
       "<style scoped>\n",
       "    .dataframe tbody tr th:only-of-type {\n",
       "        vertical-align: middle;\n",
       "    }\n",
       "\n",
       "    .dataframe tbody tr th {\n",
       "        vertical-align: top;\n",
       "    }\n",
       "\n",
       "    .dataframe thead th {\n",
       "        text-align: right;\n",
       "    }\n",
       "</style>\n",
       "<table border=\"1\" class=\"dataframe\">\n",
       "  <thead>\n",
       "    <tr style=\"text-align: right;\">\n",
       "      <th>available</th>\n",
       "      <th>t</th>\n",
       "    </tr>\n",
       "    <tr>\n",
       "      <th>month</th>\n",
       "      <th></th>\n",
       "    </tr>\n",
       "  </thead>\n",
       "  <tbody>\n",
       "    <tr>\n",
       "      <th>01</th>\n",
       "      <td>122.91</td>\n",
       "    </tr>\n",
       "    <tr>\n",
       "      <th>02</th>\n",
       "      <td>124.29</td>\n",
       "    </tr>\n",
       "    <tr>\n",
       "      <th>03</th>\n",
       "      <td>128.64</td>\n",
       "    </tr>\n",
       "    <tr>\n",
       "      <th>04</th>\n",
       "      <td>135.10</td>\n",
       "    </tr>\n",
       "    <tr>\n",
       "      <th>05</th>\n",
       "      <td>139.54</td>\n",
       "    </tr>\n",
       "    <tr>\n",
       "      <th>06</th>\n",
       "      <td>147.47</td>\n",
       "    </tr>\n",
       "    <tr>\n",
       "      <th>07</th>\n",
       "      <td>152.09</td>\n",
       "    </tr>\n",
       "    <tr>\n",
       "      <th>08</th>\n",
       "      <td>150.66</td>\n",
       "    </tr>\n",
       "    <tr>\n",
       "      <th>09</th>\n",
       "      <td>143.26</td>\n",
       "    </tr>\n",
       "    <tr>\n",
       "      <th>10</th>\n",
       "      <td>137.03</td>\n",
       "    </tr>\n",
       "    <tr>\n",
       "      <th>11</th>\n",
       "      <td>135.69</td>\n",
       "    </tr>\n",
       "    <tr>\n",
       "      <th>12</th>\n",
       "      <td>137.25</td>\n",
       "    </tr>\n",
       "  </tbody>\n",
       "</table>\n",
       "</div>"
      ],
      "text/plain": [
       "available       t\n",
       "month            \n",
       "01         122.91\n",
       "02         124.29\n",
       "03         128.64\n",
       "04         135.10\n",
       "05         139.54\n",
       "06         147.47\n",
       "07         152.09\n",
       "08         150.66\n",
       "09         143.26\n",
       "10         137.03\n",
       "11         135.69\n",
       "12         137.25"
      ]
     },
     "metadata": {},
     "output_type": "display_data"
    }
   ],
   "source": [
    "price = round(cal.pivot_table(index='month',columns=\"available\",values =\"price\",aggfunc = \"mean\"),2)\n",
    "display(price)"
   ]
  },
  {
   "cell_type": "code",
   "execution_count": 16,
   "id": "4c7ef0d1",
   "metadata": {},
   "outputs": [],
   "source": [
    "#On récupère le maximum et le minimum pour les logements disponibles\n",
    "max_price = price[\"t\"].max()\n",
    "min_price = price[\"t\"].min()\n"
   ]
  },
  {
   "cell_type": "code",
   "execution_count": 19,
   "id": "276de457",
   "metadata": {},
   "outputs": [
    {
     "data": {
      "text/html": [
       "<div>\n",
       "<style scoped>\n",
       "    .dataframe tbody tr th:only-of-type {\n",
       "        vertical-align: middle;\n",
       "    }\n",
       "\n",
       "    .dataframe tbody tr th {\n",
       "        vertical-align: top;\n",
       "    }\n",
       "\n",
       "    .dataframe thead th {\n",
       "        text-align: right;\n",
       "    }\n",
       "</style>\n",
       "<table border=\"1\" class=\"dataframe\">\n",
       "  <thead>\n",
       "    <tr style=\"text-align: right;\">\n",
       "      <th>available</th>\n",
       "      <th>t</th>\n",
       "    </tr>\n",
       "    <tr>\n",
       "      <th>month</th>\n",
       "      <th></th>\n",
       "    </tr>\n",
       "  </thead>\n",
       "  <tbody>\n",
       "    <tr>\n",
       "      <th>07</th>\n",
       "      <td>152.09</td>\n",
       "    </tr>\n",
       "  </tbody>\n",
       "</table>\n",
       "</div>"
      ],
      "text/plain": [
       "available       t\n",
       "month            \n",
       "07         152.09"
      ]
     },
     "metadata": {},
     "output_type": "display_data"
    },
    {
     "name": "stdout",
     "output_type": "stream",
     "text": [
      "Ainsi, c'est en juillet que le prix moyen est le plus élevé pour les logements\n",
      "il est donc moins intéressant de visiter Seattle en juillet\n"
     ]
    }
   ],
   "source": [
    "display(price[price['t']==max_price])\n",
    "print(\"Ainsi, c'est en juillet que le prix moyen est le plus élevé pour les logements\\nil est donc moins intéressant de visiter Seattle en juillet\")"
   ]
  },
  {
   "cell_type": "code",
   "execution_count": 18,
   "id": "a0a40970",
   "metadata": {},
   "outputs": [
    {
     "data": {
      "text/plain": [
       "month\n",
       "01    122.91\n",
       "Name: t, dtype: float64"
      ]
     },
     "metadata": {},
     "output_type": "display_data"
    },
    {
     "name": "stdout",
     "output_type": "stream",
     "text": [
      "Ainsi, c'est en janvier que le prix moyen est le plus faible pour les logements \n",
      "il est donc plus intéressant de visiter Seattle en janvier\n"
     ]
    }
   ],
   "source": [
    "display(price[price['t']==min_price].t)\n",
    "print(\"Ainsi, c'est en janvier que le prix moyen est le plus faible pour les logements \\nil est donc plus intéressant de visiter Seattle en janvier\")"
   ]
  }
 ],
 "metadata": {
  "kernelspec": {
   "display_name": "Python 3.9.7 ('base')",
   "language": "python",
   "name": "python3"
  },
  "language_info": {
   "codemirror_mode": {
    "name": "ipython",
    "version": 3
   },
   "file_extension": ".py",
   "mimetype": "text/x-python",
   "name": "python",
   "nbconvert_exporter": "python",
   "pygments_lexer": "ipython3",
   "version": "3.9.7"
  },
  "orig_nbformat": 4,
  "vscode": {
   "interpreter": {
    "hash": "40d3a090f54c6569ab1632332b64b2c03c39dcf918b08424e98f38b5ae0af88f"
   }
  }
 },
 "nbformat": 4,
 "nbformat_minor": 2
}
